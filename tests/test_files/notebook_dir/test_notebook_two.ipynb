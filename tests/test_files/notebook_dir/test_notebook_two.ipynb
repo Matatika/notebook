{
 "cells": [
  {
   "cell_type": "code",
   "execution_count": 1,
   "id": "db5a0ea0",
   "metadata": {
    "execution": {
     "iopub.execute_input": "2022-01-05T17:53:57.563707Z",
     "iopub.status.busy": "2022-01-05T17:53:57.562795Z",
     "iopub.status.idle": "2022-01-05T17:53:57.566581Z",
     "shell.execute_reply": "2022-01-05T17:53:57.566948Z"
    }
   },
   "outputs": [],
   "source": [
    "%%capture\n",
    "\n",
    "import datetime as datetime\n",
    "\n",
    "current_time = datetime.datetime.now()"
   ]
  },
  {
   "cell_type": "code",
   "execution_count": 2,
   "id": "f89ace3f",
   "metadata": {
    "execution": {
     "iopub.execute_input": "2022-01-05T17:53:57.570352Z",
     "iopub.status.busy": "2022-01-05T17:53:57.569712Z",
     "iopub.status.idle": "2022-01-05T17:53:57.572042Z",
     "shell.execute_reply": "2022-01-05T17:53:57.572506Z"
    }
   },
   "outputs": [
    {
     "name": "stdout",
     "output_type": "stream",
     "text": [
      "2022-01-05 17:53:57.563721\n"
     ]
    }
   ],
   "source": [
    "print(current_time)"
   ]
  }
 ],
 "metadata": {
  "kernelspec": {
   "display_name": "Python 3",
   "language": "python",
   "name": "python3"
  },
  "language_info": {
   "codemirror_mode": {
    "name": "ipython",
    "version": 3
   },
   "file_extension": ".py",
   "mimetype": "text/x-python",
   "name": "python",
   "nbconvert_exporter": "python",
   "pygments_lexer": "ipython3",
   "version": "3.9.5"
  }
 },
 "nbformat": 4,
 "nbformat_minor": 5
}
