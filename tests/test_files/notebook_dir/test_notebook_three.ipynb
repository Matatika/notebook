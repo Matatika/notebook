{
 "cells": [
  {
   "cell_type": "code",
   "execution_count": 1,
   "id": "db5a0ea0",
   "metadata": {
    "execution": {
     "iopub.execute_input": "2022-01-05T15:06:58.937979Z",
     "iopub.status.busy": "2022-01-05T15:06:58.937079Z",
     "iopub.status.idle": "2022-01-05T15:06:58.941551Z",
     "shell.execute_reply": "2022-01-05T15:06:58.942016Z"
    }
   },
   "outputs": [],
   "source": [
    "%%capture\n",
    "\n",
    "import datetime as datetime\n",
    "\n",
    "current_time = datetime.datetime.now()"
   ]
  },
  {
   "cell_type": "code",
   "execution_count": 2,
   "id": "f89ace3f",
   "metadata": {
    "execution": {
     "iopub.execute_input": "2022-01-05T15:06:58.945664Z",
     "iopub.status.busy": "2022-01-05T15:06:58.944187Z",
     "iopub.status.idle": "2022-01-05T15:06:58.948601Z",
     "shell.execute_reply": "2022-01-05T15:06:58.947988Z"
    }
   },
   "outputs": [
    {
     "name": "stdout",
     "output_type": "stream",
     "text": [
      "2022-01-05 15:06:58.938880\n"
     ]
    }
   ],
   "source": [
    "print(current_time)"
   ]
  },
  {
   "cell_type": "code",
   "execution_count": null,
   "id": "55ea0cc5",
   "metadata": {},
   "outputs": [],
   "source": []
  }
 ],
 "metadata": {
  "kernelspec": {
   "display_name": "Python 3",
   "language": "python",
   "name": "python3"
  },
  "language_info": {
   "codemirror_mode": {
    "name": "ipython",
    "version": 3
   },
   "file_extension": ".py",
   "mimetype": "text/x-python",
   "name": "python",
   "nbconvert_exporter": "python",
   "pygments_lexer": "ipython3",
   "version": "3.9.5"
  }
 },
 "nbformat": 4,
 "nbformat_minor": 5
}
